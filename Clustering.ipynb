{
 "cells": [
  {
   "cell_type": "code",
   "execution_count": 1,
   "metadata": {},
   "outputs": [],
   "source": [
    "import pandas as pd\n",
    "import numpy as np\n",
    "import matplotlib.pyplot as plt"
   ]
  },
  {
   "cell_type": "markdown",
   "metadata": {},
   "source": [
    "### Import metadata to dataframe"
   ]
  },
  {
   "cell_type": "code",
   "execution_count": 2,
   "metadata": {},
   "outputs": [
    {
     "data": {
      "text/html": [
       "<div>\n",
       "<style scoped>\n",
       "    .dataframe tbody tr th:only-of-type {\n",
       "        vertical-align: middle;\n",
       "    }\n",
       "\n",
       "    .dataframe tbody tr th {\n",
       "        vertical-align: top;\n",
       "    }\n",
       "\n",
       "    .dataframe thead th {\n",
       "        text-align: right;\n",
       "    }\n",
       "</style>\n",
       "<table border=\"1\" class=\"dataframe\">\n",
       "  <thead>\n",
       "    <tr style=\"text-align: right;\">\n",
       "      <th></th>\n",
       "      <th>_id</th>\n",
       "      <th>contributor-author</th>\n",
       "      <th>date-accessioned</th>\n",
       "      <th>date-available</th>\n",
       "      <th>date-issued</th>\n",
       "      <th>identifier-other</th>\n",
       "      <th>identifier-uri</th>\n",
       "      <th>description-abstract</th>\n",
       "      <th>description-provenance</th>\n",
       "      <th>format-medium</th>\n",
       "      <th>...</th>\n",
       "      <th>identifier-applicationnumber</th>\n",
       "      <th>identifier-patentnumber</th>\n",
       "      <th>language-none</th>\n",
       "      <th>subject-mesh</th>\n",
       "      <th>identifier-pmid</th>\n",
       "      <th>creator-none</th>\n",
       "      <th>coverage-city</th>\n",
       "      <th>coverage-country</th>\n",
       "      <th>identifier-govdoc</th>\n",
       "      <th>identifier-trnumber</th>\n",
       "    </tr>\n",
       "  </thead>\n",
       "  <tbody>\n",
       "    <tr>\n",
       "      <th>0</th>\n",
       "      <td>{'$oid': '5d6d605a716407970dd20dcf'}</td>\n",
       "      <td>Aatique, Muhammad</td>\n",
       "      <td>2011-08-04T21:27:39Z</td>\n",
       "      <td>2011-08-04T21:27:39Z</td>\n",
       "      <td>1997-08-06</td>\n",
       "      <td>etd-82597-03345</td>\n",
       "      <td>http://hdl.handle.net/10919/9558</td>\n",
       "      <td>The Federal Communications Commission (FCC) ha...</td>\n",
       "      <td>[{'key0': 'ETDs_20110726_kdweeks '}, {'key1': ...</td>\n",
       "      <td>ETD</td>\n",
       "      <td>...</td>\n",
       "      <td>NaN</td>\n",
       "      <td>NaN</td>\n",
       "      <td>NaN</td>\n",
       "      <td>NaN</td>\n",
       "      <td>NaN</td>\n",
       "      <td>NaN</td>\n",
       "      <td>NaN</td>\n",
       "      <td>NaN</td>\n",
       "      <td>NaN</td>\n",
       "      <td>NaN</td>\n",
       "    </tr>\n",
       "    <tr>\n",
       "      <th>1</th>\n",
       "      <td>{'$oid': '5d6d605a716407970dd20dd0'}</td>\n",
       "      <td>Adams, Christi J.</td>\n",
       "      <td>2011-08-04T21:27:39Z</td>\n",
       "      <td>2011-08-04T21:27:39Z</td>\n",
       "      <td>1997-07-21</td>\n",
       "      <td>etd-63197-115233</td>\n",
       "      <td>http://hdl.handle.net/10919/9559</td>\n",
       "      <td>For humans, walking is the principle means of ...</td>\n",
       "      <td>[{'key0': 'ETDs_20110726_kdweeks '}, {'key1': ...</td>\n",
       "      <td>ETD</td>\n",
       "      <td>...</td>\n",
       "      <td>NaN</td>\n",
       "      <td>NaN</td>\n",
       "      <td>NaN</td>\n",
       "      <td>NaN</td>\n",
       "      <td>NaN</td>\n",
       "      <td>NaN</td>\n",
       "      <td>NaN</td>\n",
       "      <td>NaN</td>\n",
       "      <td>NaN</td>\n",
       "      <td>NaN</td>\n",
       "    </tr>\n",
       "    <tr>\n",
       "      <th>2</th>\n",
       "      <td>{'$oid': '5d6d605a716407970dd20dd1'}</td>\n",
       "      <td>Adams, Nicole</td>\n",
       "      <td>2011-08-04T21:27:39Z</td>\n",
       "      <td>2011-08-04T21:27:39Z</td>\n",
       "      <td>1997-02-03</td>\n",
       "      <td>etd-123322282975860</td>\n",
       "      <td>http://hdl.handle.net/10919/9560</td>\n",
       "      <td>This thesis is an attempt to reconcile the for...</td>\n",
       "      <td>[{'key0': 'ETDs_20110726_kdweeks '}, {'key1': ...</td>\n",
       "      <td>ETD</td>\n",
       "      <td>...</td>\n",
       "      <td>NaN</td>\n",
       "      <td>NaN</td>\n",
       "      <td>NaN</td>\n",
       "      <td>NaN</td>\n",
       "      <td>NaN</td>\n",
       "      <td>NaN</td>\n",
       "      <td>NaN</td>\n",
       "      <td>NaN</td>\n",
       "      <td>NaN</td>\n",
       "      <td>NaN</td>\n",
       "    </tr>\n",
       "    <tr>\n",
       "      <th>3</th>\n",
       "      <td>{'$oid': '5d6d605a716407970dd20dd2'}</td>\n",
       "      <td>Aitani, Koichiro</td>\n",
       "      <td>2011-08-04T21:27:40Z</td>\n",
       "      <td>2011-08-04T21:27:40Z</td>\n",
       "      <td>1997-10-13</td>\n",
       "      <td>etd-11197-221720</td>\n",
       "      <td>http://hdl.handle.net/10919/9561</td>\n",
       "      <td>The light is the giver of presence. Nature is ...</td>\n",
       "      <td>[{'key0': 'ETDs_20110726_kdweeks '}, {'key1': ...</td>\n",
       "      <td>ETD</td>\n",
       "      <td>...</td>\n",
       "      <td>NaN</td>\n",
       "      <td>NaN</td>\n",
       "      <td>NaN</td>\n",
       "      <td>NaN</td>\n",
       "      <td>NaN</td>\n",
       "      <td>NaN</td>\n",
       "      <td>NaN</td>\n",
       "      <td>NaN</td>\n",
       "      <td>NaN</td>\n",
       "      <td>NaN</td>\n",
       "    </tr>\n",
       "    <tr>\n",
       "      <th>4</th>\n",
       "      <td>{'$oid': '5d6d605a716407970dd20dd3'}</td>\n",
       "      <td>Akobundu, Eberechukwu Jr.</td>\n",
       "      <td>2011-08-04T21:27:40Z</td>\n",
       "      <td>2011-08-04T21:27:40Z</td>\n",
       "      <td>1997-08-29</td>\n",
       "      <td>etd-01498-9144</td>\n",
       "      <td>http://hdl.handle.net/10919/9562</td>\n",
       "      <td>Since Senegal's independence in 1960, groundnu...</td>\n",
       "      <td>[{'key0': 'ETDs_20110726_kdweeks '}, {'key1': ...</td>\n",
       "      <td>ETD</td>\n",
       "      <td>...</td>\n",
       "      <td>NaN</td>\n",
       "      <td>NaN</td>\n",
       "      <td>NaN</td>\n",
       "      <td>NaN</td>\n",
       "      <td>NaN</td>\n",
       "      <td>NaN</td>\n",
       "      <td>NaN</td>\n",
       "      <td>NaN</td>\n",
       "      <td>NaN</td>\n",
       "      <td>NaN</td>\n",
       "    </tr>\n",
       "    <tr>\n",
       "      <th>...</th>\n",
       "      <td>...</td>\n",
       "      <td>...</td>\n",
       "      <td>...</td>\n",
       "      <td>...</td>\n",
       "      <td>...</td>\n",
       "      <td>...</td>\n",
       "      <td>...</td>\n",
       "      <td>...</td>\n",
       "      <td>...</td>\n",
       "      <td>...</td>\n",
       "      <td>...</td>\n",
       "      <td>...</td>\n",
       "      <td>...</td>\n",
       "      <td>...</td>\n",
       "      <td>...</td>\n",
       "      <td>...</td>\n",
       "      <td>...</td>\n",
       "      <td>...</td>\n",
       "      <td>...</td>\n",
       "      <td>...</td>\n",
       "      <td>...</td>\n",
       "    </tr>\n",
       "    <tr>\n",
       "      <th>30956</th>\n",
       "      <td>{'$oid': '5d6d60f89bdaa6f2d846176a'}</td>\n",
       "      <td>Parker, Steven Daniel</td>\n",
       "      <td>2018-05-19T08:00:25Z</td>\n",
       "      <td>2018-05-19T08:00:25Z</td>\n",
       "      <td>2018-05-18</td>\n",
       "      <td>vt_gsexam:15164</td>\n",
       "      <td>http://hdl.handle.net/10919/83363</td>\n",
       "      <td>As the number of public school students identi...</td>\n",
       "      <td>[{'key0': 'Author Emailsparker7@vt.edu '}, {'k...</td>\n",
       "      <td>ETD</td>\n",
       "      <td>...</td>\n",
       "      <td>NaN</td>\n",
       "      <td>NaN</td>\n",
       "      <td>NaN</td>\n",
       "      <td>NaN</td>\n",
       "      <td>NaN</td>\n",
       "      <td>NaN</td>\n",
       "      <td>NaN</td>\n",
       "      <td>NaN</td>\n",
       "      <td>NaN</td>\n",
       "      <td>NaN</td>\n",
       "    </tr>\n",
       "    <tr>\n",
       "      <th>30957</th>\n",
       "      <td>{'$oid': '5d6d60f89bdaa6f2d846176b'}</td>\n",
       "      <td>Penrod, Joshua Morgan</td>\n",
       "      <td>2018-05-19T08:00:32Z</td>\n",
       "      <td>2018-05-19T08:00:32Z</td>\n",
       "      <td>2018-05-18</td>\n",
       "      <td>vt_gsexam:16238</td>\n",
       "      <td>http://hdl.handle.net/10919/83364</td>\n",
       "      <td>This dissertation examines the emerging practi...</td>\n",
       "      <td>[{'key0': 'Author Emailjmpenrod@vt.edu '}, {'k...</td>\n",
       "      <td>ETD</td>\n",
       "      <td>...</td>\n",
       "      <td>NaN</td>\n",
       "      <td>NaN</td>\n",
       "      <td>NaN</td>\n",
       "      <td>NaN</td>\n",
       "      <td>NaN</td>\n",
       "      <td>NaN</td>\n",
       "      <td>NaN</td>\n",
       "      <td>NaN</td>\n",
       "      <td>NaN</td>\n",
       "      <td>NaN</td>\n",
       "    </tr>\n",
       "    <tr>\n",
       "      <th>30958</th>\n",
       "      <td>{'$oid': '5d6d60f89bdaa6f2d846176c'}</td>\n",
       "      <td>Yang, Yuchen</td>\n",
       "      <td>2018-05-22T08:00:14Z</td>\n",
       "      <td>2018-05-22T08:00:14Z</td>\n",
       "      <td>2018-05-21</td>\n",
       "      <td>vt_gsexam:15369</td>\n",
       "      <td>http://hdl.handle.net/10919/83372</td>\n",
       "      <td>Switch mode power supplies are widely used in ...</td>\n",
       "      <td>[{'key0': 'Author Emailycyang@vt.edu '}, {'key...</td>\n",
       "      <td>ETD</td>\n",
       "      <td>...</td>\n",
       "      <td>NaN</td>\n",
       "      <td>NaN</td>\n",
       "      <td>NaN</td>\n",
       "      <td>NaN</td>\n",
       "      <td>NaN</td>\n",
       "      <td>NaN</td>\n",
       "      <td>NaN</td>\n",
       "      <td>NaN</td>\n",
       "      <td>NaN</td>\n",
       "      <td>NaN</td>\n",
       "    </tr>\n",
       "    <tr>\n",
       "      <th>30959</th>\n",
       "      <td>{'$oid': '5d6d60f89bdaa6f2d846176d'}</td>\n",
       "      <td>Yearout, Rebecca Lee</td>\n",
       "      <td>2018-05-25T06:00:12Z</td>\n",
       "      <td>2018-05-25T06:00:12Z</td>\n",
       "      <td>2016-11-30</td>\n",
       "      <td>vt_gsexam:9000</td>\n",
       "      <td>http://hdl.handle.net/10919/83390</td>\n",
       "      <td>As a result of recent federal legislative chan...</td>\n",
       "      <td>[{'key0': 'Author Emailryearout@vt.edu '}, {'k...</td>\n",
       "      <td>ETD</td>\n",
       "      <td>...</td>\n",
       "      <td>NaN</td>\n",
       "      <td>NaN</td>\n",
       "      <td>NaN</td>\n",
       "      <td>NaN</td>\n",
       "      <td>NaN</td>\n",
       "      <td>NaN</td>\n",
       "      <td>NaN</td>\n",
       "      <td>NaN</td>\n",
       "      <td>NaN</td>\n",
       "      <td>NaN</td>\n",
       "    </tr>\n",
       "    <tr>\n",
       "      <th>30960</th>\n",
       "      <td>{'$oid': '5d6d60f89bdaa6f2d846176e'}</td>\n",
       "      <td>Koehn, Thaddeus E</td>\n",
       "      <td>2018-05-25T06:00:20Z</td>\n",
       "      <td>2018-05-25T06:00:20Z</td>\n",
       "      <td>2016-11-30</td>\n",
       "      <td>vt_gsexam:9096</td>\n",
       "      <td>http://hdl.handle.net/10919/83391</td>\n",
       "      <td>Digital signal processing systems demand highe...</td>\n",
       "      <td>[{'key0': 'Author Emailtek1885@vt.edu '}, {'ke...</td>\n",
       "      <td>ETD</td>\n",
       "      <td>...</td>\n",
       "      <td>NaN</td>\n",
       "      <td>NaN</td>\n",
       "      <td>NaN</td>\n",
       "      <td>NaN</td>\n",
       "      <td>NaN</td>\n",
       "      <td>NaN</td>\n",
       "      <td>NaN</td>\n",
       "      <td>NaN</td>\n",
       "      <td>NaN</td>\n",
       "      <td>NaN</td>\n",
       "    </tr>\n",
       "  </tbody>\n",
       "</table>\n",
       "<p>30961 rows × 80 columns</p>\n",
       "</div>"
      ],
      "text/plain": [
       "                                        _id          contributor-author  \\\n",
       "0      {'$oid': '5d6d605a716407970dd20dcf'}          Aatique, Muhammad    \n",
       "1      {'$oid': '5d6d605a716407970dd20dd0'}          Adams, Christi J.    \n",
       "2      {'$oid': '5d6d605a716407970dd20dd1'}              Adams, Nicole    \n",
       "3      {'$oid': '5d6d605a716407970dd20dd2'}           Aitani, Koichiro    \n",
       "4      {'$oid': '5d6d605a716407970dd20dd3'}  Akobundu, Eberechukwu Jr.    \n",
       "...                                     ...                         ...   \n",
       "30956  {'$oid': '5d6d60f89bdaa6f2d846176a'}      Parker, Steven Daniel    \n",
       "30957  {'$oid': '5d6d60f89bdaa6f2d846176b'}      Penrod, Joshua Morgan    \n",
       "30958  {'$oid': '5d6d60f89bdaa6f2d846176c'}               Yang, Yuchen    \n",
       "30959  {'$oid': '5d6d60f89bdaa6f2d846176d'}       Yearout, Rebecca Lee    \n",
       "30960  {'$oid': '5d6d60f89bdaa6f2d846176e'}          Koehn, Thaddeus E    \n",
       "\n",
       "            date-accessioned         date-available  date-issued  \\\n",
       "0      2011-08-04T21:27:39Z   2011-08-04T21:27:39Z   1997-08-06    \n",
       "1      2011-08-04T21:27:39Z   2011-08-04T21:27:39Z   1997-07-21    \n",
       "2      2011-08-04T21:27:39Z   2011-08-04T21:27:39Z   1997-02-03    \n",
       "3      2011-08-04T21:27:40Z   2011-08-04T21:27:40Z   1997-10-13    \n",
       "4      2011-08-04T21:27:40Z   2011-08-04T21:27:40Z   1997-08-29    \n",
       "...                      ...                    ...          ...   \n",
       "30956  2018-05-19T08:00:25Z   2018-05-19T08:00:25Z   2018-05-18    \n",
       "30957  2018-05-19T08:00:32Z   2018-05-19T08:00:32Z   2018-05-18    \n",
       "30958  2018-05-22T08:00:14Z   2018-05-22T08:00:14Z   2018-05-21    \n",
       "30959  2018-05-25T06:00:12Z   2018-05-25T06:00:12Z   2016-11-30    \n",
       "30960  2018-05-25T06:00:20Z   2018-05-25T06:00:20Z   2016-11-30    \n",
       "\n",
       "           identifier-other                      identifier-uri  \\\n",
       "0          etd-82597-03345    http://hdl.handle.net/10919/9558    \n",
       "1         etd-63197-115233    http://hdl.handle.net/10919/9559    \n",
       "2      etd-123322282975860    http://hdl.handle.net/10919/9560    \n",
       "3         etd-11197-221720    http://hdl.handle.net/10919/9561    \n",
       "4           etd-01498-9144    http://hdl.handle.net/10919/9562    \n",
       "...                     ...                                 ...   \n",
       "30956      vt_gsexam:15164   http://hdl.handle.net/10919/83363    \n",
       "30957      vt_gsexam:16238   http://hdl.handle.net/10919/83364    \n",
       "30958      vt_gsexam:15369   http://hdl.handle.net/10919/83372    \n",
       "30959       vt_gsexam:9000   http://hdl.handle.net/10919/83390    \n",
       "30960       vt_gsexam:9096   http://hdl.handle.net/10919/83391    \n",
       "\n",
       "                                    description-abstract  \\\n",
       "0      The Federal Communications Commission (FCC) ha...   \n",
       "1      For humans, walking is the principle means of ...   \n",
       "2      This thesis is an attempt to reconcile the for...   \n",
       "3      The light is the giver of presence. Nature is ...   \n",
       "4      Since Senegal's independence in 1960, groundnu...   \n",
       "...                                                  ...   \n",
       "30956  As the number of public school students identi...   \n",
       "30957  This dissertation examines the emerging practi...   \n",
       "30958  Switch mode power supplies are widely used in ...   \n",
       "30959  As a result of recent federal legislative chan...   \n",
       "30960  Digital signal processing systems demand highe...   \n",
       "\n",
       "                                  description-provenance format-medium  ...  \\\n",
       "0      [{'key0': 'ETDs_20110726_kdweeks '}, {'key1': ...          ETD   ...   \n",
       "1      [{'key0': 'ETDs_20110726_kdweeks '}, {'key1': ...          ETD   ...   \n",
       "2      [{'key0': 'ETDs_20110726_kdweeks '}, {'key1': ...          ETD   ...   \n",
       "3      [{'key0': 'ETDs_20110726_kdweeks '}, {'key1': ...          ETD   ...   \n",
       "4      [{'key0': 'ETDs_20110726_kdweeks '}, {'key1': ...          ETD   ...   \n",
       "...                                                  ...           ...  ...   \n",
       "30956  [{'key0': 'Author Emailsparker7@vt.edu '}, {'k...          ETD   ...   \n",
       "30957  [{'key0': 'Author Emailjmpenrod@vt.edu '}, {'k...          ETD   ...   \n",
       "30958  [{'key0': 'Author Emailycyang@vt.edu '}, {'key...          ETD   ...   \n",
       "30959  [{'key0': 'Author Emailryearout@vt.edu '}, {'k...          ETD   ...   \n",
       "30960  [{'key0': 'Author Emailtek1885@vt.edu '}, {'ke...          ETD   ...   \n",
       "\n",
       "      identifier-applicationnumber identifier-patentnumber language-none  \\\n",
       "0                              NaN                     NaN           NaN   \n",
       "1                              NaN                     NaN           NaN   \n",
       "2                              NaN                     NaN           NaN   \n",
       "3                              NaN                     NaN           NaN   \n",
       "4                              NaN                     NaN           NaN   \n",
       "...                            ...                     ...           ...   \n",
       "30956                          NaN                     NaN           NaN   \n",
       "30957                          NaN                     NaN           NaN   \n",
       "30958                          NaN                     NaN           NaN   \n",
       "30959                          NaN                     NaN           NaN   \n",
       "30960                          NaN                     NaN           NaN   \n",
       "\n",
       "      subject-mesh identifier-pmid creator-none coverage-city  \\\n",
       "0              NaN             NaN          NaN           NaN   \n",
       "1              NaN             NaN          NaN           NaN   \n",
       "2              NaN             NaN          NaN           NaN   \n",
       "3              NaN             NaN          NaN           NaN   \n",
       "4              NaN             NaN          NaN           NaN   \n",
       "...            ...             ...          ...           ...   \n",
       "30956          NaN             NaN          NaN           NaN   \n",
       "30957          NaN             NaN          NaN           NaN   \n",
       "30958          NaN             NaN          NaN           NaN   \n",
       "30959          NaN             NaN          NaN           NaN   \n",
       "30960          NaN             NaN          NaN           NaN   \n",
       "\n",
       "      coverage-country identifier-govdoc identifier-trnumber  \n",
       "0                  NaN               NaN                 NaN  \n",
       "1                  NaN               NaN                 NaN  \n",
       "2                  NaN               NaN                 NaN  \n",
       "3                  NaN               NaN                 NaN  \n",
       "4                  NaN               NaN                 NaN  \n",
       "...                ...               ...                 ...  \n",
       "30956              NaN               NaN                 NaN  \n",
       "30957              NaN               NaN                 NaN  \n",
       "30958              NaN               NaN                 NaN  \n",
       "30959              NaN               NaN                 NaN  \n",
       "30960              NaN               NaN                 NaN  \n",
       "\n",
       "[30961 rows x 80 columns]"
      ]
     },
     "execution_count": 2,
     "metadata": {},
     "output_type": "execute_result"
    }
   ],
   "source": [
    "metadata_path = \"data/temp_processed.json\"\n",
    "md_df = pd.read_json(metadata_path, orient=str)\n",
    "md_df"
   ]
  },
  {
   "cell_type": "markdown",
   "metadata": {},
   "source": [
    "### List all columns"
   ]
  },
  {
   "cell_type": "code",
   "execution_count": 3,
   "metadata": {
    "scrolled": false
   },
   "outputs": [
    {
     "data": {
      "text/plain": [
       "Index(['_id', 'contributor-author', 'date-accessioned', 'date-available',\n",
       "       'date-issued', 'identifier-other', 'identifier-uri',\n",
       "       'description-abstract', 'description-provenance', 'format-medium',\n",
       "       'publisher-none', 'relation-haspart', 'rights-none', 'subject-none',\n",
       "       'title-none', 'type-none', 'contributor-department',\n",
       "       'description-degree', 'contributor-committeechair',\n",
       "       'contributor-committeemember', 'identifier-sourceurl', 'date-sdate',\n",
       "       'date-rdate', 'date-adate', 'degree-name', 'degree-level',\n",
       "       'degree-grantor', 'handle', 'searchAuthorStr', 'searchTitle',\n",
       "       'subject-lcc', 'contributor-committeecochair', 'degree-discipline',\n",
       "       'relation-none', 'format-none', 'language-iso', 'format-mimetype',\n",
       "       'type-dcmitype', 'description-notes', 'contributor-advisor',\n",
       "       'format-extent', 'identifier-oclc', 'subject-lcsh',\n",
       "       'description-sponsorship', 'description-admin', 'rights-uri',\n",
       "       'title-alternative', 'identifier-citation', 'rights-holder',\n",
       "       'description-abstractgeneral', 'coverage-state', 'coverage-county',\n",
       "       'description-none', 'relation-uri', 'relation-ispartof',\n",
       "       'identifier-doi', 'contributor-editor', 'identifier-issn',\n",
       "       'title-serial', 'identifier-volume', 'identifier-issue',\n",
       "       'identifier-eissn', 'dateAccepted-none', 'identifier-isbn',\n",
       "       'relation-ispartofseries', 'description-version', 'identifier-url',\n",
       "       'subject-cabt', 'contributor-inventor', 'date-filed',\n",
       "       'identifier-applicationnumber', 'identifier-patentnumber',\n",
       "       'language-none', 'subject-mesh', 'identifier-pmid', 'creator-none',\n",
       "       'coverage-city', 'coverage-country', 'identifier-govdoc',\n",
       "       'identifier-trnumber'],\n",
       "      dtype='object')"
      ]
     },
     "execution_count": 3,
     "metadata": {},
     "output_type": "execute_result"
    }
   ],
   "source": [
    "md_df.columns"
   ]
  },
  {
   "cell_type": "markdown",
   "metadata": {},
   "source": [
    "### Visualize degree level"
   ]
  },
  {
   "cell_type": "code",
   "execution_count": 4,
   "metadata": {
    "scrolled": true
   },
   "outputs": [
    {
     "name": "stdout",
     "output_type": "stream",
     "text": [
      "['doctoral ' 'masters ' 'undergraduate ']\n",
      "[13071 17876    14]\n"
     ]
    },
    {
     "data": {
      "image/png": "[encoded data removed]",
      "text/plain": [
       "<Figure size 432x288 with 1 Axes>"
      ]
     },
     "metadata": {
      "needs_background": "light"
     },
     "output_type": "display_data"
    }
   ],
   "source": [
    "degree_levels = md_df['degree-level'].values\n",
    "values, counts = np.unique(degree_levels, return_counts=True)\n",
    "\n",
    "fig, axs = plt.subplots()\n",
    "axs.bar(list(values), list(counts))\n",
    "print(values)\n",
    "print(counts)"
   ]
  },
  {
   "cell_type": "markdown",
   "metadata": {},
   "source": [
    "### Visualize degree name"
   ]
  },
  {
   "cell_type": "code",
   "execution_count": 7,
   "metadata": {},
   "outputs": [
    {
     "name": "stdout",
     "output_type": "stream",
     "text": [
      "['B.S. ' 'Bachelor of Arts ' 'Bachelor of Science '\n",
      " 'Community College. Ed. D. ' 'Counseling and Student Personnel. Ed. D. '\n",
      " 'D. ' 'D.E.D.P. ' 'Doctor of Education ' 'ED. D. ' 'EDD ' 'Ed. D '\n",
      " 'Ed. D. ' 'Education Adinistration. Ed. D. '\n",
      " 'Family and Child Development. Ph. D. ' 'M. A. ' 'M. AR. ' 'M. Arch. '\n",
      " 'M. Arts. ' 'M. Eng. ' 'M. For. ' 'M. S. ' 'M. Urban Affairs ' 'M.A. '\n",
      " 'M.Arch ' 'M.Arch. ' 'M.Eng. ' 'M.F.A. ' 'M.I.S. ' 'M.L. Arch. '\n",
      " 'M.L.A. ' 'M.S. ' 'M.S.L.S. ' 'M.U.A. ' 'M.U.R. P. ' 'M.U.R. Pl. '\n",
      " 'M.U.R.P. ' 'M.U.R.Pl. ' 'M.UA. ' 'MA ' 'MARCH ' 'MASTER of SCIENCE '\n",
      " 'MFA ' 'MLA ' 'MPA ' 'MPIA ' 'MS ' 'MSLFS ' 'MURPL ' 'Master Of Science '\n",
      " 'Master of Accounting and Information Systems ' 'Master of Architecture '\n",
      " 'Master of Arts ' 'Master of Engineering '\n",
      " 'Master of Engineering in Civil Engineering ' 'Master of Fine Arts '\n",
      " 'Master of Forestry ' 'Master of Information Systems '\n",
      " 'Master of Landscape Architecture ' 'Master of Natural Resources '\n",
      " 'Master of Public Administration '\n",
      " 'Master of Public and International Affairs ' 'Master of SCience '\n",
      " 'Master of Science ' 'Master of Science In the Life Sciences '\n",
      " 'Master of Science in Civil Engineering '\n",
      " 'Master of Science in Education '\n",
      " 'Master of Science in Electrical Engineering '\n",
      " 'Master of Science in Engineering Mechanics '\n",
      " 'Master of Science in Forestry ' 'Master of Urban Affairs '\n",
      " 'Master of Urban and Regional Planning ' 'PH. D. ' 'PHD ' 'Ph. D '\n",
      " 'Ph. D. ' 'Ph.D. ' 'PhD ' 'Vocational and Technical Education. Ed. D. '\n",
      " 'master of science ' 'nan']\n"
     ]
    }
   ],
   "source": [
    "degree_names = list(md_df['degree-name'].values)\n",
    "values, counts = np.unique(degree_names, return_counts=True)\n",
    "print(values)"
   ]
  },
  {
   "cell_type": "code",
   "execution_count": 8,
   "metadata": {
    "scrolled": true
   },
   "outputs": [
    {
     "data": {
      "text/plain": [
       "<BarContainer object of 7 artists>"
      ]
     },
     "execution_count": 8,
     "metadata": {},
     "output_type": "execute_result"
    },
    {
     "data": {
      "image/png": "[encoded data removed]",
      "text/plain": [
       "<Figure size 432x288 with 1 Axes>"
      ]
     },
     "metadata": {
      "needs_background": "light"
     },
     "output_type": "display_data"
    }
   ],
   "source": [
    "dict_ = dict(zip(values,counts))\n",
    "sorted_dict = sorted(dict_.items(), key=lambda x: x[1], reverse=True)\n",
    "\n",
    "values, counts = zip(*sorted_dict)\n",
    "\n",
    "fig, axs = plt.subplots()\n",
    "axs.bar(list(values)[:7], list(counts)[:7])\n"
   ]
  },
  {
   "cell_type": "markdown",
   "metadata": {},
   "source": [
    "### Example abstract"
   ]
  },
  {
   "cell_type": "code",
   "execution_count": 7,
   "metadata": {},
   "outputs": [
    {
     "data": {
      "text/plain": [
       "\"The Federal Communications Commission (FCC) has adopted regulations requiring wireless communication service providers to provide position location (PL) information for a user requesting E-911 service. The Time Difference of Arrival (TDOA) technique is one of the most promising position location techniques for cellular-type wireless communication systems. The IS-95 Code Division Multiple Access (CDMA) system is a popular choice for the companies deploying new cellular and PCS systems in North America. Hence, the feasibility of TDOA techniques in CDMA systems is an important issue for position location in the wireless systems of the future.  This thesis analyzes the performance of TDOA techniques in the CDMA systems. A comparison and assessment of different algorithms for finding the time difference estimates and for solving the hyperbolic equations generated by those estimates has been made. This research also considers a measure of accuracy for TDOA position location method which is shown to be more suitable for CDMA systems and more closely matches to the FCC requirements. Among the other contributions is a proposed method to perform cross-correlations to identify only the desired user's TDOA in a multiuser environment.  This thesis also evaluates the feasibility and accuracy of TDOA techniques under varying system conditions that might be encountered in real situations. This includes varying conditions of Additive White Gaussian Noise (AWGN), Multiple Access Interference (MAI), power control and loading. The effect of the mobile position and of different arrangement of base stations on TDOA accuracy is also studied. Performance comparison in AWGN and Rayleigh fading channels is made. The feasibility of using increased power levels for the 911 user in combination with interference cancellation is also studied. The effect of using a single stage of parallel interference cancellation at neighboring cell sites has also been explored. Non-ideal situations such as imperfect power control in CDMA operation has also been investigated in the context of position location. This thesis also suggests amethod to correct TDOA estimation errors in CDMA. It is shown that this improvement can give greatly improved performance even under worst-case situations. Performance comparison of results with and without that modification has also been made under various conditions. \""
      ]
     },
     "execution_count": 7,
     "metadata": {},
     "output_type": "execute_result"
    }
   ],
   "source": [
    "md_df.iloc[0]['description-abstract']"
   ]
  },
  {
   "cell_type": "markdown",
   "metadata": {},
   "source": [
    "### Get top 50 tokens from the titles, abstracts and show with frequency"
   ]
  },
  {
   "cell_type": "code",
   "execution_count": 8,
   "metadata": {},
   "outputs": [],
   "source": [
    "abstracts = md_df['description-abstract'].values"
   ]
  },
  {
   "cell_type": "markdown",
   "metadata": {},
   "source": [
    "#### Tokenize"
   ]
  },
  {
   "cell_type": "code",
   "execution_count": 9,
   "metadata": {
    "scrolled": true
   },
   "outputs": [],
   "source": [
    "from nltk.tokenize import TweetTokenizer\n",
    "wpt = TweetTokenizer()\n",
    "\n",
    "tokenized_abstracts = []\n",
    "for item in list(abstracts):\n",
    "    tokenized_abstracts.append(wpt.tokenize(str(item)))"
   ]
  },
  {
   "cell_type": "markdown",
   "metadata": {},
   "source": [
    "#### Lemmatize"
   ]
  },
  {
   "cell_type": "code",
   "execution_count": 10,
   "metadata": {},
   "outputs": [],
   "source": [
    "from nltk.stem import WordNetLemmatizer\n",
    "lemmatizer = WordNetLemmatizer()\n",
    "\n",
    "lemmatized_abstracts = []\n",
    "for item in tokenized_abstracts:\n",
    "    temp = []\n",
    "    for word in item:\n",
    "        temp.append(lemmatizer.lemmatize(word))\n",
    "    lemmatized_abstracts.append(temp)"
   ]
  },
  {
   "cell_type": "code",
   "execution_count": 11,
   "metadata": {},
   "outputs": [],
   "source": [
    "from nltk.corpus import stopwords\n",
    "stop_words = set(stopwords.words('english'))\n",
    "processed_abstracts = []\n",
    "for item in lemmatized_abstracts:\n",
    "    filtered_sentence = [w for w in item if not w in stop_words]\n",
    "    processed_abstracts.append(filtered_sentence)"
   ]
  },
  {
   "cell_type": "code",
   "execution_count": 12,
   "metadata": {},
   "outputs": [
    {
     "data": {
      "text/plain": [
       "['The',\n",
       " 'Federal',\n",
       " 'Communications',\n",
       " 'Commission',\n",
       " '(',\n",
       " 'FCC',\n",
       " ')',\n",
       " 'ha',\n",
       " 'adopted',\n",
       " 'regulation',\n",
       " 'requiring',\n",
       " 'wireless',\n",
       " 'communication',\n",
       " 'service',\n",
       " 'provider',\n",
       " 'provide',\n",
       " 'position',\n",
       " 'location',\n",
       " '(',\n",
       " 'PL',\n",
       " ')',\n",
       " 'information',\n",
       " 'user',\n",
       " 'requesting',\n",
       " 'E',\n",
       " '-',\n",
       " '911',\n",
       " 'service',\n",
       " '.',\n",
       " 'The',\n",
       " 'Time',\n",
       " 'Difference',\n",
       " 'Arrival',\n",
       " '(',\n",
       " 'TDOA',\n",
       " ')',\n",
       " 'technique',\n",
       " 'one',\n",
       " 'promising',\n",
       " 'position',\n",
       " 'location',\n",
       " 'technique',\n",
       " 'cellular-type',\n",
       " 'wireless',\n",
       " 'communication',\n",
       " 'system',\n",
       " '.',\n",
       " 'The',\n",
       " 'IS',\n",
       " '-',\n",
       " '95',\n",
       " 'Code',\n",
       " 'Division',\n",
       " 'Multiple',\n",
       " 'Access',\n",
       " '(',\n",
       " 'CDMA',\n",
       " ')',\n",
       " 'system',\n",
       " 'popular',\n",
       " 'choice',\n",
       " 'company',\n",
       " 'deploying',\n",
       " 'new',\n",
       " 'cellular',\n",
       " 'PCS',\n",
       " 'system',\n",
       " 'North',\n",
       " 'America',\n",
       " '.',\n",
       " 'Hence',\n",
       " ',',\n",
       " 'feasibility',\n",
       " 'TDOA',\n",
       " 'technique',\n",
       " 'CDMA',\n",
       " 'system',\n",
       " 'important',\n",
       " 'issue',\n",
       " 'position',\n",
       " 'location',\n",
       " 'wireless',\n",
       " 'system',\n",
       " 'future',\n",
       " '.',\n",
       " 'This',\n",
       " 'thesis',\n",
       " 'analyzes',\n",
       " 'performance',\n",
       " 'TDOA',\n",
       " 'technique',\n",
       " 'CDMA',\n",
       " 'system',\n",
       " '.',\n",
       " 'A',\n",
       " 'comparison',\n",
       " 'assessment',\n",
       " 'different',\n",
       " 'algorithm',\n",
       " 'finding',\n",
       " 'time',\n",
       " 'difference',\n",
       " 'estimate',\n",
       " 'solving',\n",
       " 'hyperbolic',\n",
       " 'equation',\n",
       " 'generated',\n",
       " 'estimate',\n",
       " 'ha',\n",
       " 'made',\n",
       " '.',\n",
       " 'This',\n",
       " 'research',\n",
       " 'also',\n",
       " 'considers',\n",
       " 'measure',\n",
       " 'accuracy',\n",
       " 'TDOA',\n",
       " 'position',\n",
       " 'location',\n",
       " 'method',\n",
       " 'shown',\n",
       " 'suitable',\n",
       " 'CDMA',\n",
       " 'system',\n",
       " 'closely',\n",
       " 'match',\n",
       " 'FCC',\n",
       " 'requirement',\n",
       " '.',\n",
       " 'Among',\n",
       " 'contribution',\n",
       " 'proposed',\n",
       " 'method',\n",
       " 'perform',\n",
       " 'cross-correlations',\n",
       " 'identify',\n",
       " 'desired',\n",
       " \"user's\",\n",
       " 'TDOA',\n",
       " 'multiuser',\n",
       " 'environment',\n",
       " '.',\n",
       " 'This',\n",
       " 'thesis',\n",
       " 'also',\n",
       " 'evaluates',\n",
       " 'feasibility',\n",
       " 'accuracy',\n",
       " 'TDOA',\n",
       " 'technique',\n",
       " 'varying',\n",
       " 'system',\n",
       " 'condition',\n",
       " 'might',\n",
       " 'encountered',\n",
       " 'real',\n",
       " 'situation',\n",
       " '.',\n",
       " 'This',\n",
       " 'includes',\n",
       " 'varying',\n",
       " 'condition',\n",
       " 'Additive',\n",
       " 'White',\n",
       " 'Gaussian',\n",
       " 'Noise',\n",
       " '(',\n",
       " 'AWGN',\n",
       " ')',\n",
       " ',',\n",
       " 'Multiple',\n",
       " 'Access',\n",
       " 'Interference',\n",
       " '(',\n",
       " 'MAI',\n",
       " ')',\n",
       " ',',\n",
       " 'power',\n",
       " 'control',\n",
       " 'loading',\n",
       " '.',\n",
       " 'The',\n",
       " 'effect',\n",
       " 'mobile',\n",
       " 'position',\n",
       " 'different',\n",
       " 'arrangement',\n",
       " 'base',\n",
       " 'station',\n",
       " 'TDOA',\n",
       " 'accuracy',\n",
       " 'also',\n",
       " 'studied',\n",
       " '.',\n",
       " 'Performance',\n",
       " 'comparison',\n",
       " 'AWGN',\n",
       " 'Rayleigh',\n",
       " 'fading',\n",
       " 'channel',\n",
       " 'made',\n",
       " '.',\n",
       " 'The',\n",
       " 'feasibility',\n",
       " 'using',\n",
       " 'increased',\n",
       " 'power',\n",
       " 'level',\n",
       " '911',\n",
       " 'user',\n",
       " 'combination',\n",
       " 'interference',\n",
       " 'cancellation',\n",
       " 'also',\n",
       " 'studied',\n",
       " '.',\n",
       " 'The',\n",
       " 'effect',\n",
       " 'using',\n",
       " 'single',\n",
       " 'stage',\n",
       " 'parallel',\n",
       " 'interference',\n",
       " 'cancellation',\n",
       " 'neighboring',\n",
       " 'cell',\n",
       " 'site',\n",
       " 'ha',\n",
       " 'also',\n",
       " 'explored',\n",
       " '.',\n",
       " 'Non-ideal',\n",
       " 'situation',\n",
       " 'imperfect',\n",
       " 'power',\n",
       " 'control',\n",
       " 'CDMA',\n",
       " 'operation',\n",
       " 'ha',\n",
       " 'also',\n",
       " 'investigated',\n",
       " 'context',\n",
       " 'position',\n",
       " 'location',\n",
       " '.',\n",
       " 'This',\n",
       " 'thesis',\n",
       " 'also',\n",
       " 'suggests',\n",
       " 'amethod',\n",
       " 'correct',\n",
       " 'TDOA',\n",
       " 'estimation',\n",
       " 'error',\n",
       " 'CDMA',\n",
       " '.',\n",
       " 'It',\n",
       " 'shown',\n",
       " 'improvement',\n",
       " 'give',\n",
       " 'greatly',\n",
       " 'improved',\n",
       " 'performance',\n",
       " 'even',\n",
       " 'worst-case',\n",
       " 'situation',\n",
       " '.',\n",
       " 'Performance',\n",
       " 'comparison',\n",
       " 'result',\n",
       " 'without',\n",
       " 'modification',\n",
       " 'ha',\n",
       " 'also',\n",
       " 'made',\n",
       " 'various',\n",
       " 'condition',\n",
       " '.']"
      ]
     },
     "execution_count": 12,
     "metadata": {},
     "output_type": "execute_result"
    }
   ],
   "source": [
    "processed_abstracts[0]"
   ]
  },
  {
   "cell_type": "code",
   "execution_count": 13,
   "metadata": {},
   "outputs": [
    {
     "name": "stdout",
     "output_type": "stream",
     "text": [
      "{'into', 'more', 'after', 'some', 'now', 'in', 'below', 'had', 'll', 'from', 'their', 'aren', 't', 'mustn', 'against', 'over', 'couldn', \"you've\", 'himself', 'has', 'doing', 'about', 'there', 'weren', 'wouldn', \"you'd\", 'ain', 'when', 'they', 'which', 'than', 'same', 'again', 'an', 'doesn', 'how', 'needn', 'if', 'ma', 'have', 'all', 'but', 'or', 'whom', 'm', \"wasn't\", \"don't\", 'those', 'are', 'yourself', 'the', 'any', 'just', 'shouldn', 'me', 'by', \"hadn't\", 'of', \"weren't\", 'on', 'yours', 'then', 's', 'isn', 'hasn', 'can', 'its', 'off', 'where', \"couldn't\", 'with', 'such', 'through', 'o', 'having', 'his', 'why', 'so', 've', 'and', \"aren't\", 'only', 'hers', 'that', 'at', 'these', \"she's\", 'is', \"doesn't\", 'down', 'too', 'her', 'own', 'be', \"you're\", 'didn', 'itself', 'for', 'here', 'during', 'them', 'been', 'shan', 'y', \"it's\", 'he', 'while', 'does', 'as', 'wasn', 'to', 'herself', 'before', 'nor', 're', \"should've\", 'ours', 'won', 'you', 'am', 'each', \"wouldn't\", \"mustn't\", 'don', 'she', 'not', 'ourselves', 'both', 'once', 'should', 'd', 'your', 'my', 'him', 'until', 'myself', 'yourselves', \"needn't\", 'themselves', \"you'll\", 'further', 'other', \"shan't\", 'because', 'mightn', \"didn't\", \"won't\", 'under', 'most', \"shouldn't\", 'i', 'between', \"mightn't\", 'were', 'haven', 'few', \"that'll\", 'very', 'it', 'will', 'was', 'hadn', 'do', 'our', \"haven't\", 'up', 'we', 'did', 'being', 'out', \"isn't\", 'no', 'this', 'what', \"hasn't\", 'above', 'who', 'theirs', 'a'}\n"
     ]
    }
   ],
   "source": [
    "print(stop_words)"
   ]
  },
  {
   "cell_type": "code",
   "execution_count": 14,
   "metadata": {},
   "outputs": [],
   "source": [
    "extra_stopwords = {'The', 'the', '(', ')', '.', 'It', 'it', 'also', 'ha', 'using',',', 'wa'}\n",
    "stop_words = stop_words.union(extra_stopwords)\n",
    "processed_abstracts = []\n",
    "for item in lemmatized_abstracts:\n",
    "    filtered_sentence = [w for w in item if not w in stop_words]\n",
    "    processed_abstracts.append(filtered_sentence)"
   ]
  },
  {
   "cell_type": "code",
   "execution_count": 15,
   "metadata": {},
   "outputs": [
    {
     "name": "stdout",
     "output_type": "stream",
     "text": [
      "['Federal', 'Communications', 'Commission', 'FCC', 'adopted', 'regulation', 'requiring', 'wireless', 'communication', 'service', 'provider', 'provide', 'position', 'location', 'PL', 'information', 'user', 'requesting', 'E', '-', '911', 'service', 'Time', 'Difference', 'Arrival', 'TDOA', 'technique', 'one', 'promising', 'position', 'location', 'technique', 'cellular-type', 'wireless', 'communication', 'system', 'IS', '-', '95', 'Code', 'Division', 'Multiple', 'Access', 'CDMA', 'system', 'popular', 'choice', 'company', 'deploying', 'new', 'cellular', 'PCS', 'system', 'North', 'America', 'Hence', 'feasibility', 'TDOA', 'technique', 'CDMA', 'system', 'important', 'issue', 'position', 'location', 'wireless', 'system', 'future', 'This', 'thesis', 'analyzes', 'performance', 'TDOA', 'technique', 'CDMA', 'system', 'A', 'comparison', 'assessment', 'different', 'algorithm', 'finding', 'time', 'difference', 'estimate', 'solving', 'hyperbolic', 'equation', 'generated', 'estimate', 'made', 'This', 'research', 'considers', 'measure', 'accuracy', 'TDOA', 'position', 'location', 'method', 'shown', 'suitable', 'CDMA', 'system', 'closely', 'match', 'FCC', 'requirement', 'Among', 'contribution', 'proposed', 'method', 'perform', 'cross-correlations', 'identify', 'desired', \"user's\", 'TDOA', 'multiuser', 'environment', 'This', 'thesis', 'evaluates', 'feasibility', 'accuracy', 'TDOA', 'technique', 'varying', 'system', 'condition', 'might', 'encountered', 'real', 'situation', 'This', 'includes', 'varying', 'condition', 'Additive', 'White', 'Gaussian', 'Noise', 'AWGN', 'Multiple', 'Access', 'Interference', 'MAI', 'power', 'control', 'loading', 'effect', 'mobile', 'position', 'different', 'arrangement', 'base', 'station', 'TDOA', 'accuracy', 'studied', 'Performance', 'comparison', 'AWGN', 'Rayleigh', 'fading', 'channel', 'made', 'feasibility', 'increased', 'power', 'level', '911', 'user', 'combination', 'interference', 'cancellation', 'studied', 'effect', 'single', 'stage', 'parallel', 'interference', 'cancellation', 'neighboring', 'cell', 'site', 'explored', 'Non-ideal', 'situation', 'imperfect', 'power', 'control', 'CDMA', 'operation', 'investigated', 'context', 'position', 'location', 'This', 'thesis', 'suggests', 'amethod', 'correct', 'TDOA', 'estimation', 'error', 'CDMA', 'shown', 'improvement', 'give', 'greatly', 'improved', 'performance', 'even', 'worst-case', 'situation', 'Performance', 'comparison', 'result', 'without', 'modification', 'made', 'various', 'condition']\n"
     ]
    }
   ],
   "source": [
    "print(processed_abstracts[0])"
   ]
  },
  {
   "cell_type": "markdown",
   "metadata": {},
   "source": [
    "### Convert to tf idf"
   ]
  },
  {
   "cell_type": "code",
   "execution_count": 16,
   "metadata": {},
   "outputs": [],
   "source": [
    "pre_tfidf = []\n",
    "for item in processed_abstracts:\n",
    "    temp = ' '.join(item)\n",
    "    pre_tfidf.append(temp)"
   ]
  },
  {
   "cell_type": "code",
   "execution_count": 17,
   "metadata": {},
   "outputs": [
    {
     "name": "stdout",
     "output_type": "stream",
     "text": [
      "(30961, 92061)\n"
     ]
    }
   ],
   "source": [
    "from sklearn.feature_extraction.text import TfidfVectorizer\n",
    "vectorizer = TfidfVectorizer()\n",
    "X = vectorizer.fit_transform(pre_tfidf)\n",
    "print(X.shape)"
   ]
  },
  {
   "cell_type": "markdown",
   "metadata": {},
   "source": [
    "### K means with Euclidean distance\n",
    "#### k = 2"
   ]
  },
  {
   "cell_type": "code",
   "execution_count": 18,
   "metadata": {},
   "outputs": [
    {
     "data": {
      "text/plain": [
       "array([1, 1, 1, ..., 1, 1, 1], dtype=int32)"
      ]
     },
     "execution_count": 18,
     "metadata": {},
     "output_type": "execute_result"
    }
   ],
   "source": [
    "from sklearn.cluster import KMeans\n",
    "\n",
    "kmeans = KMeans(n_clusters=2, random_state=0).fit(X)\n",
    "kmeans.labels_"
   ]
  },
  {
   "cell_type": "code",
   "execution_count": 25,
   "metadata": {},
   "outputs": [
    {
     "name": "stdout",
     "output_type": "stream",
     "text": [
      "[0 1] [ 7816 23145]\n"
     ]
    }
   ],
   "source": [
    "labels = kmeans.labels_\n",
    "label, count = np.unique(labels, return_counts=True)\n",
    "print(label, count)"
   ]
  },
  {
   "cell_type": "markdown",
   "metadata": {},
   "source": [
    "#### k = 10"
   ]
  },
  {
   "cell_type": "code",
   "execution_count": 27,
   "metadata": {},
   "outputs": [
    {
     "name": "stdout",
     "output_type": "stream",
     "text": [
      "[0 1 2 3 4 5 6 7 8 9] [5812 7816  779 1601 1141 1230 3880 5213 2903  586]\n"
     ]
    }
   ],
   "source": [
    "kmeans = KMeans(n_clusters=10, random_state=0).fit(X)\n",
    "labels = kmeans.labels_\n",
    "label, count = np.unique(labels, return_counts=True)\n",
    "print(label, count)"
   ]
  },
  {
   "cell_type": "markdown",
   "metadata": {},
   "source": [
    "#### k = 25"
   ]
  },
  {
   "cell_type": "code",
   "execution_count": 26,
   "metadata": {
    "scrolled": true
   },
   "outputs": [
    {
     "name": "stdout",
     "output_type": "stream",
     "text": [
      "[ 0  1  2  3  4  5  6  7  8  9 10 11 12 13 14 15 16 17 18 19 20 21 22 23\n",
      " 24] [ 621 7816  645 4122  660  779  673  259  604  664  606 1163 1671  994\n",
      "  503  856  572 1619 1672  984  134  801 1366  162 1015]\n"
     ]
    }
   ],
   "source": [
    "kmeans = KMeans(n_clusters=25, random_state=0).fit(X)\n",
    "labels = kmeans.labels_\n",
    "label, count = np.unique(labels, return_counts=True)\n",
    "print(label, count)"
   ]
  },
  {
   "cell_type": "markdown",
   "metadata": {},
   "source": [
    "### Dimensionality reduction"
   ]
  },
  {
   "cell_type": "code",
   "execution_count": 30,
   "metadata": {},
   "outputs": [
    {
     "name": "stdout",
     "output_type": "stream",
     "text": [
      "[0.20357611 0.02636736]\n",
      "0.2299434709020502\n"
     ]
    }
   ],
   "source": [
    "from sklearn.decomposition import TruncatedSVD\n",
    "\n",
    "svd = TruncatedSVD(n_components=2, n_iter=7, random_state=42)\n",
    "svd.fit(X)\n",
    "print(svd.explained_variance_ratio_)\n",
    "print(svd.explained_variance_ratio_.sum())\n",
    "X_transformed = svd.fit_transform(X)"
   ]
  },
  {
   "cell_type": "markdown",
   "metadata": {},
   "source": [
    "### Kmeans on reduced data\n",
    "#### k = 2"
   ]
  },
  {
   "cell_type": "code",
   "execution_count": 34,
   "metadata": {},
   "outputs": [
    {
     "name": "stdout",
     "output_type": "stream",
     "text": [
      "[0 1] [ 7816 23145]\n"
     ]
    }
   ],
   "source": [
    "kmeans = KMeans(n_clusters = 2, random_state = 0).fit(X_transformed)\n",
    "labels = kmeans.labels_\n",
    "\n",
    "label, count = np.unique(labels, return_counts=True)\n",
    "print(label, count)"
   ]
  },
  {
   "cell_type": "code",
   "execution_count": 39,
   "metadata": {},
   "outputs": [
    {
     "data": {
      "text/plain": [
       "(30961,)"
      ]
     },
     "execution_count": 39,
     "metadata": {},
     "output_type": "execute_result"
    }
   ],
   "source": [
    "X_transformed[:,0]"
   ]
  },
  {
   "cell_type": "code",
   "execution_count": null,
   "metadata": {},
   "outputs": [],
   "source": [
    "x = np.random.randn(10)\n",
    "y = np.random.randn(10)\n",
    "Cluster = np.array([0, 1, 1, 1, 3, 2, 2, 3, 0, 2])    # Labels of cluster 0 to 3\n",
    "centers = np.random.randn(4, 2) \n",
    "\n",
    "fig = plt.figure()\n",
    "ax = fig.add_subplot(111)\n",
    "scatter = ax.scatter(X_transformed[:,0],X_transformed[:,1],c=labels,s=50)\n",
    "for i,j in centers:\n",
    "    ax.scatter(i,j,s=50,c='red',marker='+')\n",
    "ax.set_xlabel('x')\n",
    "ax.set_ylabel('y')\n",
    "plt.colorbar(scatter)\n",
    "\n",
    "fig.show()"
   ]
  },
  {
   "cell_type": "markdown",
   "metadata": {},
   "source": [
    "#### k = 10"
   ]
  },
  {
   "cell_type": "code",
   "execution_count": 35,
   "metadata": {},
   "outputs": [
    {
     "name": "stdout",
     "output_type": "stream",
     "text": [
      "[0 1 2 3 4 5 6 7 8 9] [7816  263   62   13 7569 1902 5284 6679  778  595]\n"
     ]
    }
   ],
   "source": [
    "kmeans = KMeans(n_clusters = 10, random_state = 0).fit(X_transformed)\n",
    "labels = kmeans.labels_\n",
    "\n",
    "label, count = np.unique(labels, return_counts=True)\n",
    "print(label, count)"
   ]
  },
  {
   "cell_type": "markdown",
   "metadata": {},
   "source": [
    "### K means with Cosine similarity\n",
    "#### k = 2"
   ]
  },
  {
   "cell_type": "code",
   "execution_count": 22,
   "metadata": {},
   "outputs": [
    {
     "name": "stdout",
     "output_type": "stream",
     "text": [
      "[0 1] [ 7816 23145]\n"
     ]
    }
   ],
   "source": [
    "from sklearn.cluster import k_means_\n",
    "from sklearn.metrics.pairwise import cosine_similarity\n",
    "\n",
    "def cos_dist(X, Y = None, Y_norm_squared = None, squared = False):\n",
    "    return cosine_similarity(X, Y)\n",
    "\n",
    "k_means_.euclidean_distances = cos_dist\n",
    "\n",
    "kmeans = k_means_.KMeans(n_clusters = 2, random_state = 0).fit(X)\n",
    "labels = kmeans.labels_\n",
    "\n",
    "label, count = np.unique(labels, return_counts=True)\n",
    "print(label, count)"
   ]
  },
  {
   "cell_type": "markdown",
   "metadata": {},
   "source": [
    "### Bisecting Kmeans"
   ]
  },
  {
   "cell_type": "code",
   "execution_count": null,
   "metadata": {},
   "outputs": [],
   "source": [
    "from sklearn.cluster import KMeans\n",
    "num_clusters = 3000\n",
    "\n",
    "for i in range(num_clusters):\n",
    "    kmeans = KMeans(n_clusters=2, random_state=0).fit(X)\n",
    "    kmeans.labels_\n",
    "    # split points and X = (cluster with max points) (or some other criterion)"
   ]
  },
  {
   "cell_type": "markdown",
   "metadata": {},
   "source": [
    "### Hierarchichal Clustering"
   ]
  },
  {
   "cell_type": "code",
   "execution_count": null,
   "metadata": {},
   "outputs": [],
   "source": [
    "from sklearn.cluster import AgglomerativeClustering\n",
    "clustering = AgglomerativeClustering().fit(X.toarray())\n",
    "clustering\n",
    "\n",
    "labels = clustering.labels_\n",
    "\n",
    "label, count = np.unique(labels, return_counts=True)\n",
    "print(label, count)"
   ]
  }
 ],
 "metadata": {
  "kernelspec": {
   "display_name": "Python 3",
   "language": "python",
   "name": "python3"
  },
  "language_info": {
   "codemirror_mode": {
    "name": "ipython",
    "version": 3
   },
   "file_extension": ".py",
   "mimetype": "text/x-python",
   "name": "python",
   "nbconvert_exporter": "python",
   "pygments_lexer": "ipython3",
   "version": "3.8.0"
  }
 },
 "nbformat": 4,
 "nbformat_minor": 2
}
